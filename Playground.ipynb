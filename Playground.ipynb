{
 "cells": [
  {
   "cell_type": "code",
   "execution_count": 17,
   "metadata": {
    "collapsed": true
   },
   "outputs": [],
   "source": [
    "import pandas as pd\n",
    "import plotly.express as px"
   ]
  },
  {
   "cell_type": "code",
   "execution_count": 18,
   "outputs": [
    {
     "name": "stderr",
     "output_type": "stream",
     "text": [
      "/var/folders/nt/w3ctvjn94jn89w856x4xh8zc0000gn/T/ipykernel_21166/1138419386.py:1: DtypeWarning:\n",
      "\n",
      "Columns (0) have mixed types. Specify dtype option on import or set low_memory=False.\n",
      "\n"
     ]
    }
   ],
   "source": [
    "accident = pd.read_csv(\"Data/Accident_Information.csv\", )"
   ],
   "metadata": {
    "collapsed": false,
    "pycharm": {
     "name": "#%%\n"
    }
   }
  },
  {
   "cell_type": "code",
   "execution_count": 20,
   "outputs": [
    {
     "data": {
      "text/plain": "        Accident_Index 1st_Road_Class  1st_Road_Number 2nd_Road_Class  \\\n0        200501BS00001              A           3218.0            NaN   \n1        200501BS00002              B            450.0              C   \n2        200501BS00003              C              0.0            NaN   \n3        200501BS00004              A           3220.0            NaN   \n4        200501BS00005   Unclassified              0.0            NaN   \n...                ...            ...              ...            ...   \n2047251  2017984121017           A(M)             74.0            NaN   \n2047252  2017984121217              C             69.0            NaN   \n2047253  2017984121717           A(M)             74.0   Unclassified   \n2047254  2017984122317              A            708.0            NaN   \n2047255  2017984122617              B            721.0              B   \n\n         2nd_Road_Number Accident_Severity  \\\n0                    0.0           Serious   \n1                    0.0            Slight   \n2                    0.0            Slight   \n3                    0.0            Slight   \n4                    0.0            Slight   \n...                  ...               ...   \n2047251              0.0            Slight   \n2047252              0.0            Slight   \n2047253              0.0            Slight   \n2047254              0.0            Slight   \n2047255            724.0           Serious   \n\n                             Carriageway_Hazards        Date Day_of_Week  \\\n0                                           None  2005-01-04     Tuesday   \n1                                           None  2005-01-05   Wednesday   \n2                                           None  2005-01-06    Thursday   \n3                                           None  2005-01-07      Friday   \n4                                           None  2005-01-10      Monday   \n...                                          ...         ...         ...   \n2047251                                     None  2017-12-17      Sunday   \n2047252  Pedestrian in carriageway - not injured  2017-12-15      Friday   \n2047253                                     None  2017-12-18      Monday   \n2047254                                     None  2017-07-18     Tuesday   \n2047255                                     None  2017-12-20   Wednesday   \n\n         Did_Police_Officer_Attend_Scene_of_Accident  ...  \\\n0                                                1.0  ...   \n1                                                1.0  ...   \n2                                                1.0  ...   \n3                                                1.0  ...   \n4                                                1.0  ...   \n...                                              ...  ...   \n2047251                                          1.0  ...   \n2047252                                          2.0  ...   \n2047253                                          1.0  ...   \n2047254                                          1.0  ...   \n2047255                                          1.0  ...   \n\n                  Police_Force Road_Surface_Conditions           Road_Type  \\\n0          Metropolitan Police             Wet or damp  Single carriageway   \n1          Metropolitan Police                     Dry    Dual carriageway   \n2          Metropolitan Police                     Dry  Single carriageway   \n3          Metropolitan Police                     Dry  Single carriageway   \n4          Metropolitan Police             Wet or damp  Single carriageway   \n...                        ...                     ...                 ...   \n2047251  Dumfries and Galloway            Frost or ice    Dual carriageway   \n2047252  Dumfries and Galloway                     Dry  Single carriageway   \n2047253  Dumfries and Galloway             Wet or damp    Dual carriageway   \n2047254  Dumfries and Galloway                     Dry  Single carriageway   \n2047255  Dumfries and Galloway             Wet or damp  Single carriageway   \n\n        Special_Conditions_at_Site Speed_limit   Time  Urban_or_Rural_Area  \\\n0                             None        30.0  17:42                Urban   \n1                             None        30.0  17:36                Urban   \n2                             None        30.0  00:15                Urban   \n3                             None        30.0  10:35                Urban   \n4                             None        30.0  21:13                Urban   \n...                            ...         ...    ...                  ...   \n2047251                       None        70.0  11:30                Rural   \n2047252                       None        20.0  13:00                Urban   \n2047253                       None        70.0  13:30                Rural   \n2047254                       None        60.0  18:00                Rural   \n2047255                       None        40.0  13:00                Rural   \n\n            Weather_Conditions  Year InScotland  \n0        Raining no high winds  2005         No  \n1           Fine no high winds  2005         No  \n2           Fine no high winds  2005         No  \n3           Fine no high winds  2005         No  \n4           Fine no high winds  2005         No  \n...                        ...   ...        ...  \n2047251                  Other  2017        Yes  \n2047252     Fine no high winds  2017        Yes  \n2047253     Fine no high winds  2017        Yes  \n2047254     Fine no high winds  2017        Yes  \n2047255            Fog or mist  2017        Yes  \n\n[2047256 rows x 34 columns]",
      "text/html": "<div>\n<style scoped>\n    .dataframe tbody tr th:only-of-type {\n        vertical-align: middle;\n    }\n\n    .dataframe tbody tr th {\n        vertical-align: top;\n    }\n\n    .dataframe thead th {\n        text-align: right;\n    }\n</style>\n<table border=\"1\" class=\"dataframe\">\n  <thead>\n    <tr style=\"text-align: right;\">\n      <th></th>\n      <th>Accident_Index</th>\n      <th>1st_Road_Class</th>\n      <th>1st_Road_Number</th>\n      <th>2nd_Road_Class</th>\n      <th>2nd_Road_Number</th>\n      <th>Accident_Severity</th>\n      <th>Carriageway_Hazards</th>\n      <th>Date</th>\n      <th>Day_of_Week</th>\n      <th>Did_Police_Officer_Attend_Scene_of_Accident</th>\n      <th>...</th>\n      <th>Police_Force</th>\n      <th>Road_Surface_Conditions</th>\n      <th>Road_Type</th>\n      <th>Special_Conditions_at_Site</th>\n      <th>Speed_limit</th>\n      <th>Time</th>\n      <th>Urban_or_Rural_Area</th>\n      <th>Weather_Conditions</th>\n      <th>Year</th>\n      <th>InScotland</th>\n    </tr>\n  </thead>\n  <tbody>\n    <tr>\n      <th>0</th>\n      <td>200501BS00001</td>\n      <td>A</td>\n      <td>3218.0</td>\n      <td>NaN</td>\n      <td>0.0</td>\n      <td>Serious</td>\n      <td>None</td>\n      <td>2005-01-04</td>\n      <td>Tuesday</td>\n      <td>1.0</td>\n      <td>...</td>\n      <td>Metropolitan Police</td>\n      <td>Wet or damp</td>\n      <td>Single carriageway</td>\n      <td>None</td>\n      <td>30.0</td>\n      <td>17:42</td>\n      <td>Urban</td>\n      <td>Raining no high winds</td>\n      <td>2005</td>\n      <td>No</td>\n    </tr>\n    <tr>\n      <th>1</th>\n      <td>200501BS00002</td>\n      <td>B</td>\n      <td>450.0</td>\n      <td>C</td>\n      <td>0.0</td>\n      <td>Slight</td>\n      <td>None</td>\n      <td>2005-01-05</td>\n      <td>Wednesday</td>\n      <td>1.0</td>\n      <td>...</td>\n      <td>Metropolitan Police</td>\n      <td>Dry</td>\n      <td>Dual carriageway</td>\n      <td>None</td>\n      <td>30.0</td>\n      <td>17:36</td>\n      <td>Urban</td>\n      <td>Fine no high winds</td>\n      <td>2005</td>\n      <td>No</td>\n    </tr>\n    <tr>\n      <th>2</th>\n      <td>200501BS00003</td>\n      <td>C</td>\n      <td>0.0</td>\n      <td>NaN</td>\n      <td>0.0</td>\n      <td>Slight</td>\n      <td>None</td>\n      <td>2005-01-06</td>\n      <td>Thursday</td>\n      <td>1.0</td>\n      <td>...</td>\n      <td>Metropolitan Police</td>\n      <td>Dry</td>\n      <td>Single carriageway</td>\n      <td>None</td>\n      <td>30.0</td>\n      <td>00:15</td>\n      <td>Urban</td>\n      <td>Fine no high winds</td>\n      <td>2005</td>\n      <td>No</td>\n    </tr>\n    <tr>\n      <th>3</th>\n      <td>200501BS00004</td>\n      <td>A</td>\n      <td>3220.0</td>\n      <td>NaN</td>\n      <td>0.0</td>\n      <td>Slight</td>\n      <td>None</td>\n      <td>2005-01-07</td>\n      <td>Friday</td>\n      <td>1.0</td>\n      <td>...</td>\n      <td>Metropolitan Police</td>\n      <td>Dry</td>\n      <td>Single carriageway</td>\n      <td>None</td>\n      <td>30.0</td>\n      <td>10:35</td>\n      <td>Urban</td>\n      <td>Fine no high winds</td>\n      <td>2005</td>\n      <td>No</td>\n    </tr>\n    <tr>\n      <th>4</th>\n      <td>200501BS00005</td>\n      <td>Unclassified</td>\n      <td>0.0</td>\n      <td>NaN</td>\n      <td>0.0</td>\n      <td>Slight</td>\n      <td>None</td>\n      <td>2005-01-10</td>\n      <td>Monday</td>\n      <td>1.0</td>\n      <td>...</td>\n      <td>Metropolitan Police</td>\n      <td>Wet or damp</td>\n      <td>Single carriageway</td>\n      <td>None</td>\n      <td>30.0</td>\n      <td>21:13</td>\n      <td>Urban</td>\n      <td>Fine no high winds</td>\n      <td>2005</td>\n      <td>No</td>\n    </tr>\n    <tr>\n      <th>...</th>\n      <td>...</td>\n      <td>...</td>\n      <td>...</td>\n      <td>...</td>\n      <td>...</td>\n      <td>...</td>\n      <td>...</td>\n      <td>...</td>\n      <td>...</td>\n      <td>...</td>\n      <td>...</td>\n      <td>...</td>\n      <td>...</td>\n      <td>...</td>\n      <td>...</td>\n      <td>...</td>\n      <td>...</td>\n      <td>...</td>\n      <td>...</td>\n      <td>...</td>\n      <td>...</td>\n    </tr>\n    <tr>\n      <th>2047251</th>\n      <td>2017984121017</td>\n      <td>A(M)</td>\n      <td>74.0</td>\n      <td>NaN</td>\n      <td>0.0</td>\n      <td>Slight</td>\n      <td>None</td>\n      <td>2017-12-17</td>\n      <td>Sunday</td>\n      <td>1.0</td>\n      <td>...</td>\n      <td>Dumfries and Galloway</td>\n      <td>Frost or ice</td>\n      <td>Dual carriageway</td>\n      <td>None</td>\n      <td>70.0</td>\n      <td>11:30</td>\n      <td>Rural</td>\n      <td>Other</td>\n      <td>2017</td>\n      <td>Yes</td>\n    </tr>\n    <tr>\n      <th>2047252</th>\n      <td>2017984121217</td>\n      <td>C</td>\n      <td>69.0</td>\n      <td>NaN</td>\n      <td>0.0</td>\n      <td>Slight</td>\n      <td>Pedestrian in carriageway - not injured</td>\n      <td>2017-12-15</td>\n      <td>Friday</td>\n      <td>2.0</td>\n      <td>...</td>\n      <td>Dumfries and Galloway</td>\n      <td>Dry</td>\n      <td>Single carriageway</td>\n      <td>None</td>\n      <td>20.0</td>\n      <td>13:00</td>\n      <td>Urban</td>\n      <td>Fine no high winds</td>\n      <td>2017</td>\n      <td>Yes</td>\n    </tr>\n    <tr>\n      <th>2047253</th>\n      <td>2017984121717</td>\n      <td>A(M)</td>\n      <td>74.0</td>\n      <td>Unclassified</td>\n      <td>0.0</td>\n      <td>Slight</td>\n      <td>None</td>\n      <td>2017-12-18</td>\n      <td>Monday</td>\n      <td>1.0</td>\n      <td>...</td>\n      <td>Dumfries and Galloway</td>\n      <td>Wet or damp</td>\n      <td>Dual carriageway</td>\n      <td>None</td>\n      <td>70.0</td>\n      <td>13:30</td>\n      <td>Rural</td>\n      <td>Fine no high winds</td>\n      <td>2017</td>\n      <td>Yes</td>\n    </tr>\n    <tr>\n      <th>2047254</th>\n      <td>2017984122317</td>\n      <td>A</td>\n      <td>708.0</td>\n      <td>NaN</td>\n      <td>0.0</td>\n      <td>Slight</td>\n      <td>None</td>\n      <td>2017-07-18</td>\n      <td>Tuesday</td>\n      <td>1.0</td>\n      <td>...</td>\n      <td>Dumfries and Galloway</td>\n      <td>Dry</td>\n      <td>Single carriageway</td>\n      <td>None</td>\n      <td>60.0</td>\n      <td>18:00</td>\n      <td>Rural</td>\n      <td>Fine no high winds</td>\n      <td>2017</td>\n      <td>Yes</td>\n    </tr>\n    <tr>\n      <th>2047255</th>\n      <td>2017984122617</td>\n      <td>B</td>\n      <td>721.0</td>\n      <td>B</td>\n      <td>724.0</td>\n      <td>Serious</td>\n      <td>None</td>\n      <td>2017-12-20</td>\n      <td>Wednesday</td>\n      <td>1.0</td>\n      <td>...</td>\n      <td>Dumfries and Galloway</td>\n      <td>Wet or damp</td>\n      <td>Single carriageway</td>\n      <td>None</td>\n      <td>40.0</td>\n      <td>13:00</td>\n      <td>Rural</td>\n      <td>Fog or mist</td>\n      <td>2017</td>\n      <td>Yes</td>\n    </tr>\n  </tbody>\n</table>\n<p>2047256 rows × 34 columns</p>\n</div>"
     },
     "execution_count": 20,
     "metadata": {},
     "output_type": "execute_result"
    }
   ],
   "source": [
    "accident"
   ],
   "metadata": {
    "collapsed": false,
    "pycharm": {
     "name": "#%%\n"
    }
   }
  },
  {
   "cell_type": "code",
   "execution_count": 19,
   "outputs": [
    {
     "ename": "ModuleNotFoundError",
     "evalue": "No module named 'geopandas'",
     "output_type": "error",
     "traceback": [
      "\u001B[0;31m---------------------------------------------------------------------------\u001B[0m",
      "\u001B[0;31mModuleNotFoundError\u001B[0m                       Traceback (most recent call last)",
      "\u001B[0;32m/var/folders/nt/w3ctvjn94jn89w856x4xh8zc0000gn/T/ipykernel_21166/4003316979.py\u001B[0m in \u001B[0;36m<module>\u001B[0;34m\u001B[0m\n\u001B[0;32m----> 1\u001B[0;31m \u001B[0;32mimport\u001B[0m \u001B[0mgeopandas\u001B[0m \u001B[0;32mas\u001B[0m \u001B[0mgpd\u001B[0m\u001B[0;34m\u001B[0m\u001B[0;34m\u001B[0m\u001B[0m\n\u001B[0m\u001B[1;32m      2\u001B[0m \u001B[0;32mfrom\u001B[0m \u001B[0mshapely\u001B[0m\u001B[0;34m.\u001B[0m\u001B[0mgeometry\u001B[0m \u001B[0;32mimport\u001B[0m \u001B[0mPoint\u001B[0m\u001B[0;34m,\u001B[0m \u001B[0mPolygon\u001B[0m\u001B[0;34m\u001B[0m\u001B[0;34m\u001B[0m\u001B[0m\n\u001B[1;32m      3\u001B[0m \u001B[0;32mimport\u001B[0m \u001B[0mmatplotlib\u001B[0m\u001B[0;34m.\u001B[0m\u001B[0mpyplot\u001B[0m \u001B[0;32mas\u001B[0m \u001B[0mplt\u001B[0m\u001B[0;34m\u001B[0m\u001B[0;34m\u001B[0m\u001B[0m\n\u001B[1;32m      4\u001B[0m \u001B[0;31m# import street map\u001B[0m\u001B[0;34m\u001B[0m\u001B[0;34m\u001B[0m\u001B[0m\n\u001B[1;32m      5\u001B[0m \u001B[0mstreet_map\u001B[0m \u001B[0;34m=\u001B[0m \u001B[0mgpd\u001B[0m\u001B[0;34m.\u001B[0m\u001B[0mread_file\u001B[0m\u001B[0;34m(\u001B[0m\u001B[0;34m\"Map/gb_1km.shp\"\u001B[0m\u001B[0;34m)\u001B[0m\u001B[0;34m\u001B[0m\u001B[0;34m\u001B[0m\u001B[0m\n",
      "\u001B[0;31mModuleNotFoundError\u001B[0m: No module named 'geopandas'"
     ]
    }
   ],
   "source": [
    "import geopandas as gpd\n",
    "from shapely.geometry import Point, Polygon\n",
    "import matplotlib.pyplot as plt\n",
    "# import street map\n",
    "street_map = gpd.read_file(\"Map/gb_1km.shp\")"
   ],
   "metadata": {
    "collapsed": false,
    "pycharm": {
     "name": "#%%\n"
    }
   }
  },
  {
   "cell_type": "code",
   "execution_count": null,
   "outputs": [],
   "source": [
    "# designate coordinate system\n",
    "crs = {\"init\": \"espc:4326\"}\n",
    "# zip x and y coordinates into single feature\n",
    "geometry = [Point(xy) for xy in zip(accident[\"Longitude\"], accident[\"Latitude\"])]\n",
    "# create GeoPandas dataframe\n",
    "geo_df = gpd.GeoDataFrame(accident,\n",
    "crs = crs,\n",
    "geometry = geometry)"
   ],
   "metadata": {
    "collapsed": false,
    "pycharm": {
     "name": "#%%\n"
    }
   }
  },
  {
   "cell_type": "code",
   "execution_count": null,
   "outputs": [],
   "source": [
    "# create figure and axes, assign to subplot\n",
    "fig, ax = plt.subplots(figsize=(15,15))\n",
    "# add .shp mapfile to axes\n",
    "street_map.plot(ax=ax, alpha=0.4,color=\"grey\")\n",
    "# add geodataframe to axes\n",
    "# assign ‘price’ variable to represent coordinates on graph\n",
    "# add legend\n",
    "# make datapoints transparent using alpha\n",
    "# assign size of points using markersize\n",
    "geo_df.plot(column=\"Number_of_Casualties\",ax=ax,alpha=0.5, legend=True,markersize=10)\n",
    "# add title to graph\n",
    "plt.title(\"Rental Prices in NYC\", fontsize=15,fontweight=\"bold\")\n",
    "# set latitiude and longitude boundaries for map display\n",
    "# plt.xlim(-74.02,-73.925)\n",
    "# plt.ylim( 40.7,40.8)\n",
    "# show map\n",
    "plt.show()"
   ],
   "metadata": {
    "collapsed": false,
    "pycharm": {
     "name": "#%%\n"
    }
   }
  }
 ],
 "metadata": {
  "kernelspec": {
   "display_name": "Python 3",
   "language": "python",
   "name": "python3"
  },
  "language_info": {
   "codemirror_mode": {
    "name": "ipython",
    "version": 2
   },
   "file_extension": ".py",
   "mimetype": "text/x-python",
   "name": "python",
   "nbconvert_exporter": "python",
   "pygments_lexer": "ipython2",
   "version": "2.7.6"
  }
 },
 "nbformat": 4,
 "nbformat_minor": 0
}