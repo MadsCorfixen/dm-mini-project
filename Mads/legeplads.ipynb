{
 "cells": [
  {
   "cell_type": "code",
   "execution_count": 13,
   "metadata": {},
   "outputs": [],
   "source": [
    "using CSV, DataFrames, PlotlyJS\n",
    "\n",
    "DATA_PATH = \"C:\\\\Users\\\\madsc\\\\OneDrive\\\\Documents\\\\Uni\\\\Semester_6\\\\Data Mining\\\\Mini Project\\\\dm-mini-project\\\\Data\";\n",
    "\n",
    "VEHICLES = CSV.read(\"$DATA_PATH\\\\Vehicle_Information.csv\", DataFrame) |> dropmissing;\n",
    "ACCIDENTS = CSV.read(\"$DATA_PATH\\\\Accident_Information.csv\", DataFrame) |> dropmissing;"
   ]
  },
  {
   "cell_type": "code",
   "execution_count": 21,
   "metadata": {},
   "outputs": [
    {
     "data": {
      "text/html": [
       "<div class=\"data-frame\"><p>5 rows × 2 columns</p><table class=\"data-frame\"><thead><tr><th></th><th>Latitude</th><th>Longitude</th></tr><tr><th></th><th title=\"String15\">String15</th><th title=\"String15\">String15</th></tr></thead><tbody><tr><th>1</th><td>-0.19117</td><td>51.489096</td></tr><tr><th>2</th><td>-0.211708</td><td>51.520075</td></tr><tr><th>3</th><td>-0.206458</td><td>51.525301</td></tr><tr><th>4</th><td>-0.173862</td><td>51.482442</td></tr><tr><th>5</th><td>-0.156618</td><td>51.495752</td></tr></tbody></table></div>"
      ],
      "text/latex": [
       "\\begin{tabular}{r|cc}\n",
       "\t& Latitude & Longitude\\\\\n",
       "\t\\hline\n",
       "\t& String15 & String15\\\\\n",
       "\t\\hline\n",
       "\t1 & -0.19117 & 51.489096 \\\\\n",
       "\t2 & -0.211708 & 51.520075 \\\\\n",
       "\t3 & -0.206458 & 51.525301 \\\\\n",
       "\t4 & -0.173862 & 51.482442 \\\\\n",
       "\t5 & -0.156618 & 51.495752 \\\\\n",
       "\\end{tabular}\n"
      ],
      "text/plain": [
       "\u001b[1m5×2 DataFrame\u001b[0m\n",
       "\u001b[1m Row \u001b[0m│\u001b[1m Latitude  \u001b[0m\u001b[1m Longitude \u001b[0m\n",
       "\u001b[1m     \u001b[0m│\u001b[90m String15  \u001b[0m\u001b[90m String15  \u001b[0m\n",
       "─────┼──────────────────────\n",
       "   1 │ -0.19117   51.489096\n",
       "   2 │ -0.211708  51.520075\n",
       "   3 │ -0.206458  51.525301\n",
       "   4 │ -0.173862  51.482442\n",
       "   5 │ -0.156618  51.495752"
      ]
     },
     "execution_count": 21,
     "metadata": {},
     "output_type": "execute_result"
    }
   ],
   "source": [
    "coordinates = DataFrame([ACCIDENTS.Longitude, ACCIDENTS.Latitude], [\"Latitude\", \"Longitude\"]);\n",
    "first(coordinates, 5)"
   ]
  },
  {
   "cell_type": "code",
   "execution_count": 24,
   "metadata": {},
   "outputs": [
    {
     "data": {
      "text/plain": [
       "8"
      ]
     },
     "execution_count": 24,
     "metadata": {},
     "output_type": "execute_result"
    }
   ],
   "source": []
  }
 ],
 "metadata": {
  "kernelspec": {
   "display_name": "Julia 1.7.2",
   "language": "julia",
   "name": "julia-1.7"
  },
  "language_info": {
   "file_extension": ".jl",
   "mimetype": "application/julia",
   "name": "julia",
   "version": "1.7.2"
  },
  "orig_nbformat": 4
 },
 "nbformat": 4,
 "nbformat_minor": 2
}
